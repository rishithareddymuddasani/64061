{
 "cells": [
  {
   "cell_type": "markdown",
   "metadata": {
    "id": "Z1Tqhc9QUSh2"
   },
   "source": [
    "Importing all necessary modules"
   ]
  },
  {
   "cell_type": "code",
   "execution_count": 1,
   "metadata": {
    "id": "Wz2CLHqVGTgw"
   },
   "outputs": [],
   "source": [
    "import os\n",
    "from operator import itemgetter    \n",
    "import numpy as np\n",
    "import pandas as pd\n",
    "import matplotlib.pyplot as plt\n",
    "import tensorflow as tf\n",
    "\n",
    "from keras import models, regularizers, layers, optimizers, losses, metrics\n",
    "from keras.models import Sequential\n",
    "from keras.layers import Dense\n",
    "from keras.utils import np_utils\n",
    "from tensorflow.keras.utils import to_categorical\n",
    "\n",
    "\n",
    "from keras.datasets import imdb"
   ]
  },
  {
   "cell_type": "markdown",
   "metadata": {
    "id": "bWWXmkg9UhrQ"
   },
   "source": [
    "Loading IMDB data"
   ]
  },
  {
   "cell_type": "code",
   "execution_count": 2,
   "metadata": {
    "id": "Zf6zhyX8UC_X"
   },
   "outputs": [
    {
     "name": "stdout",
     "output_type": "stream",
     "text": [
      "Downloading data from https://storage.googleapis.com/tensorflow/tf-keras-datasets/imdb.npz\n",
      "17465344/17464789 [==============================] - 0s 0us/step\n",
      "17473536/17464789 [==============================] - 0s 0us/step\n"
     ]
    }
   ],
   "source": [
    "(train_data, train_labels), (test_data, test_labels) = imdb.load_data(\n",
    "num_words=10000)"
   ]
  },
  {
   "cell_type": "markdown",
   "metadata": {
    "id": "LKyl9kHXGkRx"
   },
   "source": [
    "Vectorizing the data"
   ]
  },
  {
   "cell_type": "code",
   "execution_count": 3,
   "metadata": {
    "id": "r1k5-R1EGlAl"
   },
   "outputs": [],
   "source": [
    "def vectorize_sequences(sequences, dimension=10000):\n",
    "    results = np.zeros((len(sequences), dimension))\n",
    "    for i, sequence in enumerate(sequences):\n",
    "        results[i, sequence] = 1.\n",
    "    return results"
   ]
  },
  {
   "cell_type": "markdown",
   "metadata": {
    "id": "imdN6v_aUvmb"
   },
   "source": [
    "Building the model with two hidden layers, 16 hidden units, and the RELU activation function"
   ]
  },
  {
   "cell_type": "code",
   "execution_count": 4,
   "metadata": {
    "id": "gjnun7fbUwMg"
   },
   "outputs": [],
   "source": [
    "x_train = vectorize_sequences(train_data)\n",
    "x_test = vectorize_sequences(test_data)\n"
   ]
  },
  {
   "cell_type": "code",
   "execution_count": 5,
   "metadata": {
    "colab": {
     "base_uri": "https://localhost:8080/"
    },
    "id": "2HxYMo-0VJ0-",
    "outputId": "6a13da51-d9ba-437f-e941-1ebe7ab21b0f",
    "scrolled": true
   },
   "outputs": [
    {
     "name": "stdout",
     "output_type": "stream",
     "text": [
      "y_train  (25000,)\n",
      "y_test  (25000,)\n"
     ]
    }
   ],
   "source": [
    "y_train = np.asarray(train_labels).astype('float32')\n",
    "y_test = np.asarray(test_labels).astype('float32')\n",
    "print(\"y_train \", y_train.shape)\n",
    "print(\"y_test \", y_test.shape)"
   ]
  },
  {
   "cell_type": "code",
   "execution_count": 6,
   "metadata": {
    "id": "9GGAvfJNVNMs"
   },
   "outputs": [],
   "source": [
    "x_val = x_train[:10000]\n",
    "partial_x_train = x_train[10000:]\n",
    "y_val = y_train[:10000]\n",
    "partial_y_train = y_train[10000:]"
   ]
  },
  {
   "cell_type": "markdown",
   "metadata": {
    "id": "Nv0jSSvHVWRK"
   },
   "source": [
    "Building the model with two hidden layers, 16 hidden units, and the relu activation function"
   ]
  },
  {
   "cell_type": "code",
   "execution_count": 7,
   "metadata": {
    "id": "ycajU8zHVdpy"
   },
   "outputs": [],
   "source": [
    "model = models.Sequential()\n",
    "model.add(layers.Dense(16,  activation='relu', input_shape=(10000,)))\n",
    "model.add(layers.Dense(16, activation='relu'))\n",
    "model.add(layers.Dense(1, activation='sigmoid'))"
   ]
  },
  {
   "cell_type": "markdown",
   "metadata": {
    "id": "hwXoNO5SVhcO"
   },
   "source": [
    "Model compilation using the binary cross entropy loss function and the rnsprob optimizer"
   ]
  },
  {
   "cell_type": "code",
   "execution_count": 8,
   "metadata": {
    "colab": {
     "base_uri": "https://localhost:8080/"
    },
    "id": "s7TH2TLaVg-N",
    "outputId": "5fa3bbe2-da6a-48c8-ba2e-148bff0cadb6"
   },
   "outputs": [
    {
     "name": "stdout",
     "output_type": "stream",
     "text": [
      "Epoch 1/20\n",
      "30/30 [==============================] - 2s 39ms/step - loss: 0.5318 - acc: 0.7749 - val_loss: 0.3940 - val_acc: 0.8738\n",
      "Epoch 2/20\n",
      "30/30 [==============================] - 1s 24ms/step - loss: 0.3064 - acc: 0.9060 - val_loss: 0.3165 - val_acc: 0.8774\n",
      "Epoch 3/20\n",
      "30/30 [==============================] - 1s 23ms/step - loss: 0.2195 - acc: 0.9299 - val_loss: 0.2779 - val_acc: 0.8905\n",
      "Epoch 4/20\n",
      "30/30 [==============================] - 1s 21ms/step - loss: 0.1747 - acc: 0.9441 - val_loss: 0.2768 - val_acc: 0.8896\n",
      "Epoch 5/20\n",
      "30/30 [==============================] - 1s 23ms/step - loss: 0.1405 - acc: 0.9552 - val_loss: 0.3248 - val_acc: 0.8724\n",
      "Epoch 6/20\n",
      "30/30 [==============================] - 1s 21ms/step - loss: 0.1158 - acc: 0.9627 - val_loss: 0.3044 - val_acc: 0.8826\n",
      "Epoch 7/20\n",
      "30/30 [==============================] - 1s 24ms/step - loss: 0.0975 - acc: 0.9706 - val_loss: 0.3152 - val_acc: 0.8843\n",
      "Epoch 8/20\n",
      "30/30 [==============================] - 1s 21ms/step - loss: 0.0784 - acc: 0.9784 - val_loss: 0.3382 - val_acc: 0.8835\n",
      "Epoch 9/20\n",
      "30/30 [==============================] - 1s 21ms/step - loss: 0.0646 - acc: 0.9835 - val_loss: 0.3602 - val_acc: 0.8825\n",
      "Epoch 10/20\n",
      "30/30 [==============================] - 1s 21ms/step - loss: 0.0524 - acc: 0.9881 - val_loss: 0.4086 - val_acc: 0.8691\n",
      "Epoch 11/20\n",
      "30/30 [==============================] - 1s 22ms/step - loss: 0.0441 - acc: 0.9897 - val_loss: 0.4134 - val_acc: 0.8771\n",
      "Epoch 12/20\n",
      "30/30 [==============================] - 1s 24ms/step - loss: 0.0343 - acc: 0.9924 - val_loss: 0.4412 - val_acc: 0.8744\n",
      "Epoch 13/20\n",
      "30/30 [==============================] - 1s 24ms/step - loss: 0.0293 - acc: 0.9942 - val_loss: 0.4738 - val_acc: 0.8733\n",
      "Epoch 14/20\n",
      "30/30 [==============================] - 1s 21ms/step - loss: 0.0209 - acc: 0.9965 - val_loss: 0.5726 - val_acc: 0.8546\n",
      "Epoch 15/20\n",
      "30/30 [==============================] - 1s 21ms/step - loss: 0.0139 - acc: 0.9990 - val_loss: 0.5857 - val_acc: 0.8676\n",
      "Epoch 16/20\n",
      "30/30 [==============================] - 1s 21ms/step - loss: 0.0155 - acc: 0.9972 - val_loss: 0.5714 - val_acc: 0.8683\n",
      "Epoch 17/20\n",
      "30/30 [==============================] - 1s 21ms/step - loss: 0.0080 - acc: 0.9994 - val_loss: 0.6643 - val_acc: 0.8530\n",
      "Epoch 18/20\n",
      "30/30 [==============================] - 1s 18ms/step - loss: 0.0088 - acc: 0.9992 - val_loss: 0.6571 - val_acc: 0.8631\n",
      "Epoch 19/20\n",
      "30/30 [==============================] - 1s 21ms/step - loss: 0.0047 - acc: 0.9999 - val_loss: 0.6833 - val_acc: 0.8645\n",
      "Epoch 20/20\n",
      "30/30 [==============================] - 1s 20ms/step - loss: 0.0072 - acc: 0.9981 - val_loss: 0.7214 - val_acc: 0.8639\n",
      "782/782 [==============================] - 0s 585us/step - loss: 0.7800 - acc: 0.8509\n",
      "____________________________________________________________________________________________________\n",
      "Test Loss and Accuracy\n",
      "results  [0.780044436454773, 0.8509200215339661]\n"
     ]
    },
    {
     "data": {
      "text/plain": [
       "dict_keys(['loss', 'acc', 'val_loss', 'val_acc'])"
      ]
     },
     "execution_count": 8,
     "metadata": {},
     "output_type": "execute_result"
    }
   ],
   "source": [
    "model.compile(optimizer='rmsprop', loss='binary_crossentropy', metrics=['acc'])\n",
    "\n",
    "history = model.fit(partial_x_train, partial_y_train, epochs=20, batch_size=512, validation_data=(x_val, y_val))\n",
    "\n",
    "results = model.evaluate(x_test, y_test)\n",
    "print(\"_\"*100)\n",
    "print(\"Test Loss and Accuracy\")\n",
    "print(\"results \", results)\n",
    "history_dict = history.history\n",
    "history_dict.keys()"
   ]
  },
  {
   "cell_type": "markdown",
   "metadata": {
    "id": "zQnLvgVCVpZW"
   },
   "source": [
    "plotting training and validation accuracy"
   ]
  },
  {
   "cell_type": "code",
   "execution_count": 9,
   "metadata": {
    "colab": {
     "base_uri": "https://localhost:8080/",
     "height": 295
    },
    "id": "-35qW41FVwg5",
    "outputId": "172448fa-e0b8-4b2d-be27-e3ab908c4fcf"
   },
   "outputs": [
    {
     "data": {
      "image/png": "[encoded data removed]",
      "text/plain": [
       "<Figure size 432x288 with 1 Axes>"
      ]
     },
     "metadata": {
      "needs_background": "light"
     },
     "output_type": "display_data"
    }
   ],
   "source": [
    "plt.clf()\n",
    "acc_values = history_dict['acc']\n",
    "val_acc_values = history_dict['val_acc']\n",
    "epochs = range(1, (len(history_dict['acc']) + 1))\n",
    "plt.plot(epochs, acc_values, 'bo', label='Training acc')\n",
    "plt.plot(epochs, val_acc_values, 'b', label='Validation acc')\n",
    "plt.title('Training and validation accuracy')\n",
    "plt.xlabel('Epochs')\n",
    "plt.ylabel('Accuracy')\n",
    "plt.legend()\n",
    "plt.show()"
   ]
  },
  {
   "cell_type": "markdown",
   "metadata": {
    "id": "niVixwjUWBaJ"
   },
   "source": [
    "plotting training and validation loss"
   ]
  },
  {
   "cell_type": "code",
   "execution_count": 10,
   "metadata": {
    "colab": {
     "base_uri": "https://localhost:8080/",
     "height": 295
    },
    "id": "gztqwUXJWFJi",
    "outputId": "86d1de32-e4b3-4f34-8f73-635dc49d406d"
   },
   "outputs": [
    {
     "data": {
      "image/png": "[encoded data removed]",
      "text/plain": [
       "<Figure size 432x288 with 1 Axes>"
      ]
     },
     "metadata": {
      "needs_background": "light"
     },
     "output_type": "display_data"
    }
   ],
   "source": [
    "plt.clf()\n",
    "history_dict = history.history\n",
    "loss_values = history_dict['loss']\n",
    "val_loss_values = history_dict['val_loss']\n",
    "epochs = range(1, (len(history_dict['loss']) + 1))\n",
    "plt.plot(epochs, loss_values, 'bo', label='Training loss')\n",
    "plt.plot(epochs, val_loss_values, 'b', label='Validation loss')\n",
    "plt.title('Training and validation loss')\n",
    "plt.xlabel('Epochs')\n",
    "plt.ylabel('Loss')\n",
    "plt.legend()\n",
    "plt.show()"
   ]
  },
  {
   "cell_type": "markdown",
   "metadata": {
    "id": "ArlX0ilbWKlS"
   },
   "source": [
    "Building model using one hidden layer with 16 hidden units and relu activation function"
   ]
  },
  {
   "cell_type": "code",
   "execution_count": 11,
   "metadata": {
    "id": "UYO-K8OLWP1u"
   },
   "outputs": [],
   "source": [
    "model_1 = models.Sequential()\n",
    "model.add(layers.Dense(16,  activation='relu', input_shape=(10000,)))\n",
    "model_1.add(layers.Dense(1, activation='sigmoid'))"
   ]
  },
  {
   "cell_type": "code",
   "execution_count": 12,
   "metadata": {
    "colab": {
     "base_uri": "https://localhost:8080/"
    },
    "id": "MJxHLNygWSuh",
    "outputId": "d74f0635-f74a-44ee-ebba-3e94f5aa8e5b"
   },
   "outputs": [
    {
     "name": "stdout",
     "output_type": "stream",
     "text": [
      "Epoch 1/20\n",
      "30/30 [==============================] - 1s 24ms/step - loss: 0.6146 - acc: 0.7425 - val_loss: 0.5624 - val_acc: 0.8078\n",
      "Epoch 2/20\n",
      "30/30 [==============================] - 0s 14ms/step - loss: 0.5160 - acc: 0.8429 - val_loss: 0.4988 - val_acc: 0.8349\n",
      "Epoch 3/20\n",
      "30/30 [==============================] - 0s 11ms/step - loss: 0.4549 - acc: 0.8689 - val_loss: 0.4527 - val_acc: 0.8524\n",
      "Epoch 4/20\n",
      "30/30 [==============================] - 0s 13ms/step - loss: 0.4090 - acc: 0.8837 - val_loss: 0.4190 - val_acc: 0.8610\n",
      "Epoch 5/20\n",
      "30/30 [==============================] - 0s 11ms/step - loss: 0.3735 - acc: 0.8941 - val_loss: 0.3926 - val_acc: 0.8675\n",
      "Epoch 6/20\n",
      "30/30 [==============================] - 0s 13ms/step - loss: 0.3450 - acc: 0.9027 - val_loss: 0.3723 - val_acc: 0.8721\n",
      "Epoch 7/20\n",
      "30/30 [==============================] - 0s 11ms/step - loss: 0.3219 - acc: 0.9083 - val_loss: 0.3558 - val_acc: 0.8756\n",
      "Epoch 8/20\n",
      "30/30 [==============================] - 0s 13ms/step - loss: 0.3024 - acc: 0.9137 - val_loss: 0.3423 - val_acc: 0.8793\n",
      "Epoch 9/20\n",
      "30/30 [==============================] - 0s 13ms/step - loss: 0.2857 - acc: 0.9188 - val_loss: 0.3314 - val_acc: 0.8816\n",
      "Epoch 10/20\n",
      "30/30 [==============================] - 0s 11ms/step - loss: 0.2714 - acc: 0.9223 - val_loss: 0.3224 - val_acc: 0.8843\n",
      "Epoch 11/20\n",
      "30/30 [==============================] - 0s 13ms/step - loss: 0.2590 - acc: 0.9263 - val_loss: 0.3149 - val_acc: 0.8859\n",
      "Epoch 12/20\n",
      "30/30 [==============================] - 0s 13ms/step - loss: 0.2481 - acc: 0.9295 - val_loss: 0.3087 - val_acc: 0.8883\n",
      "Epoch 13/20\n",
      "30/30 [==============================] - 0s 14ms/step - loss: 0.2382 - acc: 0.9323 - val_loss: 0.3033 - val_acc: 0.8876\n",
      "Epoch 14/20\n",
      "30/30 [==============================] - 0s 13ms/step - loss: 0.2293 - acc: 0.9347 - val_loss: 0.2987 - val_acc: 0.8898\n",
      "Epoch 15/20\n",
      "30/30 [==============================] - 0s 11ms/step - loss: 0.2212 - acc: 0.9377 - val_loss: 0.2948 - val_acc: 0.8907\n",
      "Epoch 16/20\n",
      "30/30 [==============================] - 0s 14ms/step - loss: 0.2138 - acc: 0.9407 - val_loss: 0.2914 - val_acc: 0.8910\n",
      "Epoch 17/20\n",
      "30/30 [==============================] - 0s 13ms/step - loss: 0.2071 - acc: 0.9422 - val_loss: 0.2893 - val_acc: 0.8888\n",
      "Epoch 18/20\n",
      "30/30 [==============================] - 0s 10ms/step - loss: 0.2007 - acc: 0.9447 - val_loss: 0.2863 - val_acc: 0.8909\n",
      "Epoch 19/20\n",
      "30/30 [==============================] - 0s 7ms/step - loss: 0.1951 - acc: 0.9465 - val_loss: 0.2846 - val_acc: 0.8909\n",
      "Epoch 20/20\n",
      "30/30 [==============================] - 0s 8ms/step - loss: 0.1897 - acc: 0.9479 - val_loss: 0.2824 - val_acc: 0.8911\n",
      "782/782 [==============================] - 1s 618us/step - loss: 0.2985 - acc: 0.8834\n",
      "____________________________________________________________________________________________________\n",
      "Test Loss and Accuracy\n",
      "results_1  [0.2985462546348572, 0.8833600282669067]\n"
     ]
    },
    {
     "data": {
      "text/plain": [
       "dict_keys(['loss', 'acc', 'val_loss', 'val_acc'])"
      ]
     },
     "execution_count": 12,
     "metadata": {},
     "output_type": "execute_result"
    }
   ],
   "source": [
    "model_1.compile(optimizer='rmsprop', loss='binary_crossentropy', metrics=['acc'])\n",
    "\n",
    "history_1 = model_1.fit(partial_x_train, partial_y_train, epochs=20, batch_size=512, validation_data=(x_val, y_val))\n",
    "\n",
    "results_1 = model_1.evaluate(x_test, y_test)\n",
    "print(\"_\"*100)\n",
    "print(\"Test Loss and Accuracy\")\n",
    "print(\"results_1 \", results_1)\n",
    "history_dict_1 = history_1.history\n",
    "history_dict_1.keys()"
   ]
  },
  {
   "cell_type": "markdown",
   "metadata": {
    "id": "J-a0wnYKWVM4"
   },
   "source": [
    "Building model using three hidden layer with 16 hidden units and relu activation function"
   ]
  },
  {
   "cell_type": "code",
   "execution_count": 13,
   "metadata": {
    "id": "43m88UANWZiy"
   },
   "outputs": [],
   "source": [
    "model_2 = models.Sequential()\n",
    "model_2.add(layers.Dense(16,  activation='relu', input_shape=(10000,)))\n",
    "model_2.add(layers.Dense(16, activation='relu'))\n",
    "model_2.add(layers.Dense(16, activation='relu'))\n",
    "model_2.add(layers.Dense(1, activation='sigmoid'))"
   ]
  },
  {
   "cell_type": "code",
   "execution_count": 14,
   "metadata": {
    "colab": {
     "base_uri": "https://localhost:8080/"
    },
    "id": "PhqTDawRWfHY",
    "outputId": "fbd55a1a-b653-4dec-c208-c311b57466b2"
   },
   "outputs": [
    {
     "name": "stdout",
     "output_type": "stream",
     "text": [
      "Epoch 1/20\n",
      "30/30 [==============================] - 2s 35ms/step - loss: 0.5290 - acc: 0.7958 - val_loss: 0.4031 - val_acc: 0.8586\n",
      "Epoch 2/20\n",
      "30/30 [==============================] - 1s 23ms/step - loss: 0.3103 - acc: 0.9051 - val_loss: 0.3099 - val_acc: 0.8850\n",
      "Epoch 3/20\n",
      "30/30 [==============================] - 1s 21ms/step - loss: 0.2219 - acc: 0.9260 - val_loss: 0.2762 - val_acc: 0.8907\n",
      "Epoch 4/20\n",
      "30/30 [==============================] - 1s 21ms/step - loss: 0.1696 - acc: 0.9448 - val_loss: 0.2751 - val_acc: 0.8905\n",
      "Epoch 5/20\n",
      "30/30 [==============================] - 1s 21ms/step - loss: 0.1369 - acc: 0.9557 - val_loss: 0.2882 - val_acc: 0.8886\n",
      "Epoch 6/20\n",
      "30/30 [==============================] - 1s 21ms/step - loss: 0.1089 - acc: 0.9667 - val_loss: 0.3073 - val_acc: 0.8867\n",
      "Epoch 7/20\n",
      "30/30 [==============================] - 1s 21ms/step - loss: 0.0902 - acc: 0.9723 - val_loss: 0.3558 - val_acc: 0.8794\n",
      "Epoch 8/20\n",
      "30/30 [==============================] - 1s 20ms/step - loss: 0.0778 - acc: 0.9759 - val_loss: 0.3552 - val_acc: 0.8801\n",
      "Epoch 9/20\n",
      "30/30 [==============================] - 1s 21ms/step - loss: 0.0560 - acc: 0.9858 - val_loss: 0.4043 - val_acc: 0.8778\n",
      "Epoch 10/20\n",
      "30/30 [==============================] - 1s 25ms/step - loss: 0.0483 - acc: 0.9862 - val_loss: 0.4373 - val_acc: 0.8695\n",
      "Epoch 11/20\n",
      "30/30 [==============================] - 1s 30ms/step - loss: 0.0424 - acc: 0.9883 - val_loss: 0.4519 - val_acc: 0.8737\n",
      "Epoch 12/20\n",
      "30/30 [==============================] - 1s 27ms/step - loss: 0.0298 - acc: 0.9932 - val_loss: 0.4914 - val_acc: 0.8741\n",
      "Epoch 13/20\n",
      "30/30 [==============================] - 1s 25ms/step - loss: 0.0215 - acc: 0.9963 - val_loss: 0.6824 - val_acc: 0.8380\n",
      "Epoch 14/20\n",
      "30/30 [==============================] - 1s 23ms/step - loss: 0.0201 - acc: 0.9958 - val_loss: 0.5732 - val_acc: 0.8673\n",
      "Epoch 15/20\n",
      "30/30 [==============================] - 1s 21ms/step - loss: 0.0141 - acc: 0.9975 - val_loss: 0.6052 - val_acc: 0.8705\n",
      "Epoch 16/20\n",
      "30/30 [==============================] - 1s 22ms/step - loss: 0.0147 - acc: 0.9963 - val_loss: 0.6433 - val_acc: 0.8691\n",
      "Epoch 17/20\n",
      "30/30 [==============================] - 1s 23ms/step - loss: 0.0071 - acc: 0.9990 - val_loss: 0.7182 - val_acc: 0.8558\n",
      "Epoch 18/20\n",
      "30/30 [==============================] - 1s 20ms/step - loss: 0.0049 - acc: 0.9997 - val_loss: 0.7294 - val_acc: 0.8695\n",
      "Epoch 19/20\n",
      "30/30 [==============================] - 1s 18ms/step - loss: 0.0077 - acc: 0.9980 - val_loss: 0.7673 - val_acc: 0.8670\n",
      "Epoch 20/20\n",
      "30/30 [==============================] - 1s 20ms/step - loss: 0.0055 - acc: 0.9987 - val_loss: 0.8380 - val_acc: 0.8656\n",
      "782/782 [==============================] - 1s 645us/step - loss: 0.9050 - acc: 0.8510\n",
      "____________________________________________________________________________________________________\n",
      "Test Loss and Accuracy\n",
      "results_2  [0.905044436454773, 0.8510000109672546]\n"
     ]
    },
    {
     "data": {
      "text/plain": [
       "dict_keys(['loss', 'acc', 'val_loss', 'val_acc'])"
      ]
     },
     "execution_count": 14,
     "metadata": {},
     "output_type": "execute_result"
    }
   ],
   "source": [
    "model_2.compile(optimizer='rmsprop', loss='binary_crossentropy', metrics=['acc'])\n",
    "\n",
    "history_2 = model_2.fit(partial_x_train, partial_y_train, epochs=20, batch_size=512, validation_data=(x_val, y_val))\n",
    "\n",
    "results_2 = model_2.evaluate(x_test, y_test)\n",
    "print(\"_\"*100)\n",
    "print(\"Test Loss and Accuracy\")\n",
    "print(\"results_2 \", results_2)\n",
    "history_dict_2 = history_2.history\n",
    "history_dict_2.keys()"
   ]
  },
  {
   "cell_type": "markdown",
   "metadata": {
    "id": "4Yr_ulq-Wk-t"
   },
   "source": [
    "Let's try it now with 32 hidden units rather than 16 and one hidden layer."
   ]
  },
  {
   "cell_type": "code",
   "execution_count": 15,
   "metadata": {
    "id": "v0A4E0APWovG"
   },
   "outputs": [],
   "source": [
    "model_3 = models.Sequential()\n",
    "model_3.add(layers.Dense(32,  activation='relu', input_shape=(10000,)))\n",
    "model_3.add(layers.Dense(1, activation='sigmoid'))"
   ]
  },
  {
   "cell_type": "code",
   "execution_count": 16,
   "metadata": {
    "colab": {
     "base_uri": "https://localhost:8080/"
    },
    "id": "Fn78M8HtWrBV",
    "outputId": "d6c59b7c-c18f-4263-aba3-3dfa52353d7d"
   },
   "outputs": [
    {
     "name": "stdout",
     "output_type": "stream",
     "text": [
      "Epoch 1/20\n",
      "30/30 [==============================] - 2s 35ms/step - loss: 0.4912 - acc: 0.8006 - val_loss: 0.4015 - val_acc: 0.8386\n",
      "Epoch 2/20\n",
      "30/30 [==============================] - 1s 27ms/step - loss: 0.2969 - acc: 0.9063 - val_loss: 0.3083 - val_acc: 0.8846\n",
      "Epoch 3/20\n",
      "30/30 [==============================] - 1s 27ms/step - loss: 0.2243 - acc: 0.9293 - val_loss: 0.2799 - val_acc: 0.8908\n",
      "Epoch 4/20\n",
      "30/30 [==============================] - 1s 24ms/step - loss: 0.1836 - acc: 0.9403 - val_loss: 0.2743 - val_acc: 0.8893\n",
      "Epoch 5/20\n",
      "30/30 [==============================] - 1s 27ms/step - loss: 0.1519 - acc: 0.9537 - val_loss: 0.2798 - val_acc: 0.8867\n",
      "Epoch 6/20\n",
      "30/30 [==============================] - 1s 31ms/step - loss: 0.1293 - acc: 0.9613 - val_loss: 0.2930 - val_acc: 0.8822\n",
      "Epoch 7/20\n",
      "30/30 [==============================] - 1s 38ms/step - loss: 0.1110 - acc: 0.9683 - val_loss: 0.3272 - val_acc: 0.8724\n",
      "Epoch 8/20\n",
      "30/30 [==============================] - 1s 31ms/step - loss: 0.0981 - acc: 0.9724 - val_loss: 0.3085 - val_acc: 0.8802\n",
      "Epoch 9/20\n",
      "30/30 [==============================] - 1s 37ms/step - loss: 0.0831 - acc: 0.9793 - val_loss: 0.3198 - val_acc: 0.8787\n",
      "Epoch 10/20\n",
      "30/30 [==============================] - 1s 28ms/step - loss: 0.0731 - acc: 0.9829 - val_loss: 0.3450 - val_acc: 0.8798\n",
      "Epoch 11/20\n",
      "30/30 [==============================] - 1s 34ms/step - loss: 0.0624 - acc: 0.9856 - val_loss: 0.3476 - val_acc: 0.8788\n",
      "Epoch 12/20\n",
      "30/30 [==============================] - 1s 30ms/step - loss: 0.0533 - acc: 0.9894 - val_loss: 0.3679 - val_acc: 0.8791\n",
      "Epoch 13/20\n",
      "30/30 [==============================] - 1s 30ms/step - loss: 0.0463 - acc: 0.9907 - val_loss: 0.3885 - val_acc: 0.8759\n",
      "Epoch 14/20\n",
      "30/30 [==============================] - 1s 25ms/step - loss: 0.0394 - acc: 0.9921 - val_loss: 0.4291 - val_acc: 0.8679\n",
      "Epoch 15/20\n",
      "30/30 [==============================] - 1s 28ms/step - loss: 0.0333 - acc: 0.9936 - val_loss: 0.4338 - val_acc: 0.8741\n",
      "Epoch 16/20\n",
      "30/30 [==============================] - 1s 25ms/step - loss: 0.0288 - acc: 0.9959 - val_loss: 0.4539 - val_acc: 0.8742\n",
      "Epoch 17/20\n",
      "30/30 [==============================] - 1s 27ms/step - loss: 0.0247 - acc: 0.9963 - val_loss: 0.4782 - val_acc: 0.8712\n",
      "Epoch 18/20\n",
      "30/30 [==============================] - 1s 21ms/step - loss: 0.0200 - acc: 0.9976 - val_loss: 0.5096 - val_acc: 0.8704\n",
      "Epoch 19/20\n",
      "30/30 [==============================] - 1s 21ms/step - loss: 0.0170 - acc: 0.9987 - val_loss: 0.5310 - val_acc: 0.8703\n",
      "Epoch 20/20\n",
      "30/30 [==============================] - 1s 23ms/step - loss: 0.0148 - acc: 0.9988 - val_loss: 0.5620 - val_acc: 0.8676\n",
      "782/782 [==============================] - 0s 597us/step - loss: 0.6006 - acc: 0.8545\n",
      "____________________________________________________________________________________________________\n",
      "Test Loss and Accuracy\n",
      "results_3  [0.600566029548645, 0.8545200228691101]\n"
     ]
    },
    {
     "data": {
      "text/plain": [
       "dict_keys(['loss', 'acc', 'val_loss', 'val_acc'])"
      ]
     },
     "execution_count": 16,
     "metadata": {},
     "output_type": "execute_result"
    }
   ],
   "source": [
    "model_3.compile(optimizer='rmsprop', loss='binary_crossentropy', metrics=['acc'])\n",
    "\n",
    "history_3 = model_3.fit(partial_x_train, partial_y_train, epochs=20, batch_size=512, validation_data=(x_val, y_val))\n",
    "\n",
    "results_3 = model_3.evaluate(x_test, y_test)\n",
    "print(\"_\"*100)\n",
    "print(\"Test Loss and Accuracy\")\n",
    "print(\"results_3 \", results_3)\n",
    "history_dict_3 = history_3.history\n",
    "history_dict_3.keys()"
   ]
  },
  {
   "cell_type": "markdown",
   "metadata": {
    "id": "l7oBQ27rWxn1"
   },
   "source": [
    "Now lets try with 64 units and one hidden layer\n"
   ]
  },
  {
   "cell_type": "code",
   "execution_count": 17,
   "metadata": {
    "id": "kSqTOYaaWtIN"
   },
   "outputs": [],
   "source": [
    "model_4 = models.Sequential()\n",
    "model_4.add(layers.Dense(64,  activation='relu', input_shape=(10000,)))\n",
    "model_4.add(layers.Dense(1, activation='sigmoid'))"
   ]
  },
  {
   "cell_type": "code",
   "execution_count": 18,
   "metadata": {
    "colab": {
     "base_uri": "https://localhost:8080/"
    },
    "id": "Kd_aPiA-W5s1",
    "outputId": "c287b0e8-e7c4-468e-cf20-13de8a111112"
   },
   "outputs": [
    {
     "name": "stdout",
     "output_type": "stream",
     "text": [
      "Epoch 1/20\n",
      "30/30 [==============================] - 2s 49ms/step - loss: 0.4637 - acc: 0.7870 - val_loss: 0.3339 - val_acc: 0.8805\n",
      "Epoch 2/20\n",
      "30/30 [==============================] - 1s 38ms/step - loss: 0.2642 - acc: 0.9113 - val_loss: 0.3141 - val_acc: 0.8714\n",
      "Epoch 3/20\n",
      "30/30 [==============================] - 2s 56ms/step - loss: 0.2010 - acc: 0.9328 - val_loss: 0.2734 - val_acc: 0.8927\n",
      "Epoch 4/20\n",
      "30/30 [==============================] - 2s 65ms/step - loss: 0.1582 - acc: 0.9479 - val_loss: 0.2899 - val_acc: 0.8825\n",
      "Epoch 5/20\n",
      "30/30 [==============================] - 1s 42ms/step - loss: 0.1336 - acc: 0.9555 - val_loss: 0.2914 - val_acc: 0.8852\n",
      "Epoch 6/20\n",
      "30/30 [==============================] - 1s 35ms/step - loss: 0.1079 - acc: 0.9671 - val_loss: 0.3149 - val_acc: 0.8786\n",
      "Epoch 7/20\n",
      "30/30 [==============================] - 1s 38ms/step - loss: 0.0916 - acc: 0.9726 - val_loss: 0.3176 - val_acc: 0.8782\n",
      "Epoch 8/20\n",
      "30/30 [==============================] - 1s 38ms/step - loss: 0.0745 - acc: 0.9809 - val_loss: 0.3389 - val_acc: 0.8769\n",
      "Epoch 9/20\n",
      "30/30 [==============================] - 1s 42ms/step - loss: 0.0629 - acc: 0.9847 - val_loss: 0.3597 - val_acc: 0.8782\n",
      "Epoch 10/20\n",
      "30/30 [==============================] - 1s 42ms/step - loss: 0.0518 - acc: 0.9877 - val_loss: 0.3843 - val_acc: 0.8771\n",
      "Epoch 11/20\n",
      "30/30 [==============================] - 1s 45ms/step - loss: 0.0457 - acc: 0.9891 - val_loss: 0.4058 - val_acc: 0.8756\n",
      "Epoch 12/20\n",
      "30/30 [==============================] - 1s 38ms/step - loss: 0.0368 - acc: 0.9925 - val_loss: 0.4429 - val_acc: 0.8739\n",
      "Epoch 13/20\n",
      "30/30 [==============================] - 1s 41ms/step - loss: 0.0296 - acc: 0.9940 - val_loss: 0.4772 - val_acc: 0.8707\n",
      "Epoch 14/20\n",
      "30/30 [==============================] - 1s 35ms/step - loss: 0.0253 - acc: 0.9964 - val_loss: 0.4921 - val_acc: 0.8681\n",
      "Epoch 15/20\n",
      "30/30 [==============================] - 1s 39ms/step - loss: 0.0224 - acc: 0.9963 - val_loss: 0.5191 - val_acc: 0.8681\n",
      "Epoch 16/20\n",
      "30/30 [==============================] - 1s 35ms/step - loss: 0.0176 - acc: 0.9974 - val_loss: 0.5453 - val_acc: 0.8684\n",
      "Epoch 17/20\n",
      "30/30 [==============================] - 1s 38ms/step - loss: 0.0113 - acc: 0.9994 - val_loss: 0.5746 - val_acc: 0.8668\n",
      "Epoch 18/20\n",
      "30/30 [==============================] - 1s 34ms/step - loss: 0.0125 - acc: 0.9987 - val_loss: 0.6057 - val_acc: 0.8665\n",
      "Epoch 19/20\n",
      "30/30 [==============================] - 1s 34ms/step - loss: 0.0081 - acc: 0.9995 - val_loss: 0.6398 - val_acc: 0.8648\n",
      "Epoch 20/20\n",
      "30/30 [==============================] - 1s 32ms/step - loss: 0.0086 - acc: 0.9989 - val_loss: 0.6708 - val_acc: 0.8642\n",
      "782/782 [==============================] - 1s 794us/step - loss: 0.7327 - acc: 0.8487\n",
      "____________________________________________________________________________________________________\n",
      "Test Loss and Accuracy\n",
      "results_4  [0.73273104429245, 0.8487200140953064]\n"
     ]
    },
    {
     "data": {
      "text/plain": [
       "dict_keys(['loss', 'acc', 'val_loss', 'val_acc'])"
      ]
     },
     "execution_count": 18,
     "metadata": {},
     "output_type": "execute_result"
    }
   ],
   "source": [
    "model_4.compile(optimizer='rmsprop', loss='binary_crossentropy', metrics=['acc'])\n",
    "\n",
    "history_4 = model_4.fit(partial_x_train, partial_y_train, epochs=20, batch_size=512, validation_data=(x_val, y_val))\n",
    "\n",
    "results_4 = model_4.evaluate(x_test, y_test)\n",
    "print(\"_\"*100)\n",
    "print(\"Test Loss and Accuracy\")\n",
    "print(\"results_4 \", results_4)\n",
    "history_dict_4 = history_4.history\n",
    "history_dict_4.keys()"
   ]
  },
  {
   "cell_type": "markdown",
   "metadata": {
    "id": "VwbNO1n7W-f7"
   },
   "source": [
    "Now lets replace binary_crossentropy loss function with mse"
   ]
  },
  {
   "cell_type": "code",
   "execution_count": 19,
   "metadata": {
    "id": "UJs2D7c0W6pz"
   },
   "outputs": [],
   "source": [
    "model_5 = models.Sequential()\n",
    "model_5.add(layers.Dense(16,  activation='relu', input_shape=(10000,)))\n",
    "model_5.add(layers.Dense(1, activation='sigmoid'))"
   ]
  },
  {
   "cell_type": "code",
   "execution_count": null,
   "metadata": {
    "colab": {
     "base_uri": "https://localhost:8080/"
    },
    "id": "d5e6CeWuXCQn",
    "outputId": "2664a6c8-044a-49f2-ebb9-26fb575ccc19"
   },
   "outputs": [
    {
     "name": "stdout",
     "output_type": "stream",
     "text": [
      "Epoch 1/20\n",
      "30/30 [==============================] - 2s 32ms/step - loss: 0.1626 - acc: 0.8055 - val_loss: 0.1207 - val_acc: 0.8626\n",
      "Epoch 2/20\n",
      "30/30 [==============================] - 1s 24ms/step - loss: 0.0933 - acc: 0.9038 - val_loss: 0.0968 - val_acc: 0.8871\n",
      "Epoch 3/20\n",
      "30/30 [==============================] - 1s 24ms/step - loss: 0.0700 - acc: 0.9297 - val_loss: 0.0890 - val_acc: 0.8867\n",
      "Epoch 4/20\n",
      " 7/30 [======>.......................] - ETA: 1s - loss: 0.0571 - acc: 0.949"
     ]
    }
   ],
   "source": [
    "model_5.compile(optimizer='rmsprop', loss='mse', metrics=['acc'])\n",
    "\n",
    "history_5 = model_5.fit(partial_x_train, partial_y_train, epochs=20, batch_size=512, validation_data=(x_val, y_val))\n",
    "\n",
    "results_5 = model_5.evaluate(x_test, y_test)\n",
    "print(\"_\"*100)\n",
    "print(\"Test Loss and Accuracy\")\n",
    "print(\"results_5 \", results_5)\n",
    "history_dict_5 = history_5.history\n",
    "history_dict_5.keys()"
   ]
  },
  {
   "cell_type": "markdown",
   "metadata": {
    "id": "YcuIdo4VXOUZ"
   },
   "source": [
    "Instead of relu, Using tanh function "
   ]
  },
  {
   "cell_type": "code",
   "execution_count": null,
   "metadata": {
    "id": "WgPQpQqEXGYh"
   },
   "outputs": [],
   "source": [
    "model_6 = models.Sequential()\n",
    "model_6.add(layers.Dense(16,  activation='tanh', input_shape=(10000,)))\n",
    "model_6.add(layers.Dense(1, activation='sigmoid'))"
   ]
  },
  {
   "cell_type": "code",
   "execution_count": null,
   "metadata": {
    "colab": {
     "base_uri": "https://localhost:8080/"
    },
    "id": "uG-kZoBgXWcr",
    "outputId": "4a100246-b0fc-4f51-b6b7-79cc50947d2e"
   },
   "outputs": [],
   "source": [
    "model_6.compile(optimizer='rmsprop', loss='binary_crossentropy', metrics=['acc'])\n",
    "\n",
    "history_6 = model_6.fit(partial_x_train, partial_y_train, epochs=20, batch_size=512, validation_data=(x_val, y_val))\n",
    "\n",
    "results_6= model_6.evaluate(x_test, y_test)\n",
    "print(\"_\"*100)\n",
    "print(\"Test Loss and Accuracy\")\n",
    "print(\"results_6 \", results_6)\n",
    "history_dict_6 = history_6.history\n",
    "history_dict_6.keys()"
   ]
  },
  {
   "cell_type": "markdown",
   "metadata": {
    "id": "m4zh2x1mXb3R"
   },
   "source": [
    "Using drop out for three hidden layers with 64 units, MSE loss function and RELU"
   ]
  },
  {
   "cell_type": "code",
   "execution_count": null,
   "metadata": {
    "id": "p9RM5wGKXbCm"
   },
   "outputs": [],
   "source": [
    "model_7 = models.Sequential()\n",
    "model_7.add(layers.Dense(16,  activation='relu', input_shape=(10000,)))\n",
    "model.add(layers.Dropout(0.5))\n",
    "model_7.add(layers.Dense(16, activation='relu'))\n",
    "model.add(layers.Dropout(0.5))\n",
    "model_7.add(layers.Dense(16, activation='relu'))\n",
    "model.add(layers.Dropout(0.5))\n",
    "model_7.add(layers.Dense(1, activation='sigmoid'))"
   ]
  },
  {
   "cell_type": "code",
   "execution_count": null,
   "metadata": {
    "colab": {
     "base_uri": "https://localhost:8080/"
    },
    "id": "cGTIvVJFXpZ6",
    "outputId": "90c76ead-c2a5-4273-ece0-777da4b5d631"
   },
   "outputs": [],
   "source": [
    "model_7.compile(optimizer='rmsprop', loss='mse', metrics=['acc'])\n",
    "\n",
    "history_7 = model_7.fit(partial_x_train, partial_y_train, epochs=20, batch_size=512, validation_data=(x_val, y_val))\n",
    "\n",
    "results_7= model_7.evaluate(x_test, y_test)\n",
    "print(\"_\"*100)\n",
    "print(\"Test Loss and Accuracy\")\n",
    "print(\"results_7 \", results_7)\n",
    "history_dict_7 = history_7.history\n",
    "history_dict_7.keys()"
   ]
  },
  {
   "cell_type": "markdown",
   "metadata": {
    "id": "IRMywrFZXtMW"
   },
   "source": [
    "one layer with drop out of 0.5"
   ]
  },
  {
   "cell_type": "code",
   "execution_count": null,
   "metadata": {
    "id": "mFTzqRcpXwtz"
   },
   "outputs": [],
   "source": [
    "model_8 = models.Sequential()\n",
    "model_8.add(layers.Dense(16,  activation='relu', input_shape=(10000,)))\n",
    "model_8.add(layers.Dropout(0.5))\n",
    "model_8.add(layers.Dense(1, activation='sigmoid'))"
   ]
  },
  {
   "cell_type": "code",
   "execution_count": null,
   "metadata": {
    "colab": {
     "base_uri": "https://localhost:8080/"
    },
    "id": "Z9WB79PCX1l1",
    "outputId": "2b54bd13-e5d8-42c6-a98e-a8d2782275bc"
   },
   "outputs": [],
   "source": [
    "model_8.compile(optimizer='rmsprop', loss='binary_crossentropy', metrics=['acc'])\n",
    "\n",
    "history_8 = model_8.fit(partial_x_train, partial_y_train, epochs=20, batch_size=512, validation_data=(x_val, y_val))\n",
    "\n",
    "results_8= model_8.evaluate(x_test, y_test)\n",
    "print(\"_\"*100)\n",
    "print(\"Test Loss and Accuracy\")\n",
    "print(\"results_8 \", results_8)\n",
    "history_dict_8 = history_8.history\n",
    "history_dict_8.keys()"
   ]
  },
  {
   "cell_type": "markdown",
   "metadata": {
    "id": "hMbCQONeYE1h"
   },
   "source": [
    "Using l1 regulariser"
   ]
  },
  {
   "cell_type": "code",
   "execution_count": null,
   "metadata": {
    "id": "psbtE3n-X5F8"
   },
   "outputs": [],
   "source": [
    "model_9 = models.Sequential()\n",
    "model_9.add(layers.Dense(64,  activation='relu', activity_regularizer = regularizers.L1(0.01),input_shape=(10000,)))\n",
    "model_9.add(layers.Dense(1, activation='sigmoid'))"
   ]
  },
  {
   "cell_type": "code",
   "execution_count": null,
   "metadata": {
    "colab": {
     "base_uri": "https://localhost:8080/"
    },
    "id": "4a1XEOw2YI5H",
    "outputId": "0ef48652-986e-438a-d5df-cbff27a906c1"
   },
   "outputs": [],
   "source": [
    "model_9.compile(optimizer='rmsprop', loss='binary_crossentropy', metrics=['acc'])\n",
    "\n",
    "history_9 = model_9.fit(partial_x_train, partial_y_train, epochs=20, batch_size=512, validation_data=(x_val, y_val))\n",
    "\n",
    "results_9= model_9.evaluate(x_test, y_test)\n",
    "print(\"_\"*100)\n",
    "print(\"Test Loss and Accuracy\")\n",
    "print(\"results_9 \", results_9)\n",
    "history_dict_9 = history_9.history\n",
    "history_dict_9.keys()"
   ]
  },
  {
   "cell_type": "markdown",
   "metadata": {
    "id": "YnGjPeXIYOSp"
   },
   "source": [
    "Using l2 regulariser"
   ]
  },
  {
   "cell_type": "code",
   "execution_count": null,
   "metadata": {
    "id": "XDj-lS6cYQ9q"
   },
   "outputs": [],
   "source": [
    "model_10 = models.Sequential()\n",
    "model_10.add(layers.Dense(64,  activation='relu', activity_regularizer = regularizers.L2(0.01),input_shape=(10000,)))\n",
    "model_10.add(layers.Dense(1, activation='sigmoid'))"
   ]
  },
  {
   "cell_type": "code",
   "execution_count": null,
   "metadata": {
    "colab": {
     "base_uri": "https://localhost:8080/"
    },
    "id": "Mv-7n6j0YToE",
    "outputId": "d133cd6b-acd4-413d-bf5c-358265b1d33e"
   },
   "outputs": [],
   "source": [
    "model_10.compile(optimizer='rmsprop', loss='binary_crossentropy', metrics=['acc'])\n",
    "\n",
    "history_10 = model_10.fit(partial_x_train, partial_y_train, epochs=20, batch_size=512, validation_data=(x_val, y_val))\n",
    "\n",
    "results_10= model_10.evaluate(x_test, y_test)\n",
    "print(\"_\"*100)\n",
    "print(\"Test Loss and Accuracy\")\n",
    "print(\"results_10 \", results_10)\n",
    "history_dict_10 = history_10.history\n",
    "history_dict_10.keys()"
   ]
  },
  {
   "cell_type": "markdown",
   "metadata": {
    "id": "Ufl8iTD0YW5W"
   },
   "source": [
    "Instead of rmsprop, Using adam optimizer "
   ]
  },
  {
   "cell_type": "code",
   "execution_count": null,
   "metadata": {
    "id": "mftIgFCLYWPT"
   },
   "outputs": [],
   "source": [
    "model_11= models.Sequential()\n",
    "model_11.add(layers.Dense(64,  activation='relu', activity_regularizer = regularizers.L1(0.01),input_shape=(10000,)))\n",
    "model_11.add(layers.Dense(1, activation='sigmoid'))"
   ]
  },
  {
   "cell_type": "code",
   "execution_count": null,
   "metadata": {
    "colab": {
     "base_uri": "https://localhost:8080/"
    },
    "id": "mxZcwCg4YdI5",
    "outputId": "4b5a05a3-eae8-41ec-e7a7-bef407882d75"
   },
   "outputs": [],
   "source": [
    "model_11.compile(optimizer='rmsprop', loss='binary_crossentropy', metrics=['acc'])\n",
    "\n",
    "history_11 = model_11.fit(partial_x_train, partial_y_train, epochs=20, batch_size=512, validation_data=(x_val, y_val))\n",
    "\n",
    "results_11= model_11.evaluate(x_test, y_test)\n",
    "print(\"_\"*100)\n",
    "print(\"Test Loss and Accuracy\")\n",
    "print(\"results_11 \", results_11)\n",
    "history_dict_11 = history_11.history\n",
    "history_dict_11.keys()"
   ]
  }
 ],
 "metadata": {
  "colab": {
   "provenance": []
  },
  "kernelspec": {
   "display_name": "Python 3",
   "language": "python",
   "name": "python3"
  },
  "language_info": {
   "codemirror_mode": {
    "name": "ipython",
    "version": 3
   },
   "file_extension": ".py",
   "mimetype": "text/x-python",
   "name": "python",
   "nbconvert_exporter": "python",
   "pygments_lexer": "ipython3",
   "version": "3.6.8"
  }
 },
 "nbformat": 4,
 "nbformat_minor": 1
}
